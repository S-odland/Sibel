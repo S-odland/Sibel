{
  "nbformat": 4,
  "nbformat_minor": 0,
  "metadata": {
    "colab": {
      "name": "NCMR-checks.ipynb",
      "provenance": [],
      "history_visible": true,
      "authorship_tag": "ABX9TyOvtOrCQCVORWWhdziJUNfT",
      "include_colab_link": true
    },
    "kernelspec": {
      "name": "python3",
      "display_name": "Python 3"
    }
  },
  "cells": [
    {
      "cell_type": "markdown",
      "metadata": {
        "id": "view-in-github",
        "colab_type": "text"
      },
      "source": [
        "<a href=\"https://colab.research.google.com/github/S-odland/Sibel/blob/master/NCMR_checks.ipynb\" target=\"_parent\"><img src=\"https://colab.research.google.com/assets/colab-badge.svg\" alt=\"Open In Colab\"/></a>"
      ]
    },
    {
      "cell_type": "code",
      "metadata": {
        "id": "EtTIwSc8TA4J",
        "colab_type": "code",
        "colab": {}
      },
      "source": [
        "from google.colab import auth\n",
        "from oauth2client.client import GoogleCredentials\n",
        "import gspread\n",
        "import random\n",
        "import time\n",
        "\n",
        "auth.authenticate_user()\n",
        "gc = gspread.authorize(GoogleCredentials.get_application_default())"
      ],
      "execution_count": null,
      "outputs": []
    },
    {
      "cell_type": "code",
      "metadata": {
        "id": "TZxZT3tcTC77",
        "colab_type": "code",
        "colab": {}
      },
      "source": [
        "myspreadsheet = gc.open_by_url('https://docs.google.com/spreadsheets/d/15eZ7nW0ZnMla0xd6IIPDevKi1WKzUP7M9GQpNNnhMtY/edit#gid=0')\n",
        "chestDev = myspreadsheet.worksheet('Chest')"
      ],
      "execution_count": null,
      "outputs": []
    },
    {
      "cell_type": "code",
      "metadata": {
        "id": "_uUgflHqTaCy",
        "colab_type": "code",
        "colab": {}
      },
      "source": [
        "## startCol is where the device names start (row 5 for chest devices)\n",
        "## endCol is where the device names end (row 1738 for chest devices)\n",
        "\n",
        "def getData(startCol,endCol):\n",
        "\n",
        "  chest_devices = []\n",
        "  purchase_orders = []\n",
        "  lot_numbers = []\n",
        "  manufacturers = []\n",
        "\n",
        "  for i in range(startCol,endCol):\n",
        "    chest_devices.append(chestDev.cell(i,1).value)\n",
        "    purchase_orders.append(chestDev.cell(i,18).value)\n",
        "    lot_numbers.append(chestDev.cell(i,35).value)\n",
        "    manufacturers.append(chestDev.cell(i,40).value)\n",
        "\n",
        "  return chest_devices, purchase_orders, lot_numbers, manufacturers"
      ],
      "execution_count": null,
      "outputs": []
    },
    {
      "cell_type": "code",
      "metadata": {
        "id": "OTNElVL5WnMt",
        "colab_type": "code",
        "colab": {}
      },
      "source": [
        "data1 = getData(5,100)"
      ],
      "execution_count": null,
      "outputs": []
    },
    {
      "cell_type": "code",
      "metadata": {
        "id": "Urq4QBFeWnYo",
        "colab_type": "code",
        "colab": {}
      },
      "source": [
        "data2 = getData(101,200)"
      ],
      "execution_count": null,
      "outputs": []
    },
    {
      "cell_type": "code",
      "metadata": {
        "id": "ZnHK3lJEWngJ",
        "colab_type": "code",
        "colab": {}
      },
      "source": [
        "data3 = getData(201,301)"
      ],
      "execution_count": 20,
      "outputs": []
    },
    {
      "cell_type": "code",
      "metadata": {
        "id": "K8TTDLaIXa0x",
        "colab_type": "code",
        "colab": {}
      },
      "source": [
        "data4 = getData(301,400)"
      ],
      "execution_count": 21,
      "outputs": []
    },
    {
      "cell_type": "code",
      "metadata": {
        "id": "JWZ_ZnT-XbCe",
        "colab_type": "code",
        "colab": {}
      },
      "source": [
        "data5 = getData(401,500)"
      ],
      "execution_count": 31,
      "outputs": []
    },
    {
      "cell_type": "code",
      "metadata": {
        "id": "YajiWOpcXbPp",
        "colab_type": "code",
        "colab": {}
      },
      "source": [
        "data6 = getData(501,600)"
      ],
      "execution_count": 32,
      "outputs": []
    },
    {
      "cell_type": "code",
      "metadata": {
        "id": "4w323KojX0Ho",
        "colab_type": "code",
        "colab": {}
      },
      "source": [
        "data7 = getData(601,700)"
      ],
      "execution_count": 33,
      "outputs": []
    },
    {
      "cell_type": "code",
      "metadata": {
        "id": "Es7un_E8X0qJ",
        "colab_type": "code",
        "colab": {}
      },
      "source": [
        "data8 = getData(701,800)"
      ],
      "execution_count": 38,
      "outputs": []
    },
    {
      "cell_type": "code",
      "metadata": {
        "id": "Yaj-wpWzYPmQ",
        "colab_type": "code",
        "colab": {}
      },
      "source": [
        "data9 = getData(801,900)"
      ],
      "execution_count": 39,
      "outputs": []
    },
    {
      "cell_type": "code",
      "metadata": {
        "id": "riPMnS8hZZYj",
        "colab_type": "code",
        "colab": {}
      },
      "source": [
        "data10 = getData(901,1000)"
      ],
      "execution_count": 43,
      "outputs": []
    },
    {
      "cell_type": "code",
      "metadata": {
        "id": "SWBxM4bcZZc-",
        "colab_type": "code",
        "colab": {}
      },
      "source": [
        "data11 = getData(1001,1100)"
      ],
      "execution_count": 46,
      "outputs": []
    },
    {
      "cell_type": "code",
      "metadata": {
        "id": "NpoGvFI5ZZjc",
        "colab_type": "code",
        "colab": {}
      },
      "source": [
        "data12 = getData(1101,1200)"
      ],
      "execution_count": 49,
      "outputs": []
    },
    {
      "cell_type": "code",
      "metadata": {
        "id": "4ypHrol4ZZpc",
        "colab_type": "code",
        "colab": {}
      },
      "source": [
        "data13 = getData(1201,1300)"
      ],
      "execution_count": 52,
      "outputs": []
    },
    {
      "cell_type": "code",
      "metadata": {
        "id": "9FdGrivfZZ0N",
        "colab_type": "code",
        "colab": {}
      },
      "source": [
        "data14 = getData(1301,1400)"
      ],
      "execution_count": 55,
      "outputs": []
    },
    {
      "cell_type": "code",
      "metadata": {
        "id": "iieBsSh9flYn",
        "colab_type": "code",
        "colab": {}
      },
      "source": [
        "futuraDevs = ['C285','C370','C268','C347','C352','C342','C142','C262','C236','C116','C356','C252','C313','C146','C245','C417','C447','C407','C415','C436','C459','C414','C420','C454','C558','C529','C554','C533','C531','C535','C514','C511','C555','C637','C717','C689','C695','C565','C692','C735','C734','C805','C813','C966','C879','C873','C962','C809','C909','C845','C1004','C852','C1027','C373','C522','C557','C480','C599','C399','C498','C431','C640','C473','C458','C376','C775','C108','C434','C541','C548','C481','C569','C461','C646','C410','C527','C551','C486','C408','C657','C439','C644','C543','C534','C424','C647','C664','C910','C606','C455','C460','C179','C175','C471','C566','C085','C547','C604','C444','C528','C872','C704','C530','C418','C1044','C448','C1026','C677','C626','C440','C185','C967','C1021','C592','C972','C495','C1003','C172','C421','C975','C889','C955','C960','C017','C563','C609','C1014','C993','C545','C959','C957','C468','C485','C496','C426','C375','C092','C671','C973','C266','C965','C493','C366','C299','C474','C1010','C648','C518','C563','C1099','C1138','C1128','C1087','C1125','C1076','C1063','C1066','C1118','C258','C1085','C1126','C1068','C1048','C138','C1119','C751','C1097','C1102','C1123','C1045','C1042','C1113','C1108','C1059','C976','C1067','C1107','C1130','C1086','C1129','C990','C149','C827','C1043','C1071','C1104','C1139','C1133','C1058','C1101','C1081','C1143','C1134','C1065','C1062','C1057','C1132','C1088','C1124','C1105','C951''C1141','C1094','C822','C895','C1098','C952','C1080','C945','C240','C1070','C947','C1052','C1092','C1131','C1069','C1079','C1055','C1127','C941','C1051','C1074','C1234','C1150','C1072','C427','C476','C1151','C1184','C487','C1176','C1120','C1231','C432','C1149','C1060','C1214','C1190','C1167','C1152','C1163','C1157','C1222','C1177','C1219','C1117','C1160','C1064','C593','C1192','C1217','C1230','C630','C1183','C1140','C1181','C540','C1174','C1061','C1147','C1154','C1223','C1196','C1189','C1238','C1187','C1146','C1218','C1171','C516','C1227','C1221','C573','C1186','C1180','C1082','C1162','C1242','C1225','C1156','C1191','C1239','C1166','C1161','C1056','C1188','C1200','C1148','C1142', 'C633','C371','C1215','C1165','C1201','C435','C1100','C1228','C1179','C601','C1220','C1175','C1229','C1159','C1235','C1106','C597','C1093','C1241','C1173','C1278','C988','C928','C1273','C806','C624','C1259','C953','C1169','C1251','C620','C494','C1050','C1247','C1268','C1254','C478','C1246','C1114','C1224','C1249','C1272','C1271','C627','C1245','C919','C1276','C1262','C1270','C1252','C1261','C779','C1279','C1001','C1283','C1244','C589','C1248','C1253','C1267','C1260','C1282','C1275','C1256','C1096','C795','C1277','C1266','C1281','C1274','C1286','C964','C1326','C1077','C1293','C1301','C1312','C1292','C1331','C1321','C1296','C1323','C1299','C1310','C1307','C676','C1289','C1332','C1297','C1305','C1303','C1288','C1291','C1311','C1298','C1300','C1328']"
      ],
      "execution_count": 12,
      "outputs": []
    },
    {
      "cell_type": "code",
      "metadata": {
        "id": "GOHQDXB9WPUD",
        "colab_type": "code",
        "colab": {}
      },
      "source": [
        "## devNames is a list of names of chest devices we are looking for\n",
        "\n",
        "mans1 = data1[3]\n",
        "lotNums1 = data1[2]\n",
        "purchOrders1 = data1[1]\n",
        "chestDevs1 = data1[0]\n",
        "\n",
        "mans2 = data2[3]\n",
        "lotNums2 = data2[2]\n",
        "purchOrders2 = data2[1]\n",
        "chestDevs2 = data2[0]\n",
        "\n",
        "mans3 = data3[3]\n",
        "lotNums3 = data3[2]\n",
        "purchOrders3 = data3[1]\n",
        "chestDevs3 = data3[0]\n",
        "\n",
        "mans4 = data4[3]\n",
        "lotNums4 = data4[2]\n",
        "purchOrders4 = data4[1]\n",
        "chestDevs4 = data4[0]\n",
        "\n",
        "mans5 = data5[3]\n",
        "lotNums5 = data5[2]\n",
        "purchOrders5 = data5[1]\n",
        "chestDevs5 = data5[0]\n",
        "\n",
        "mans6 = data6[3]\n",
        "lotNums6 = data6[2]\n",
        "purchOrders6 = data6[1]\n",
        "chestDevs6 = data6[0]\n",
        "\n",
        "mans7 = data7[3]\n",
        "lotNums7 = data7[2]\n",
        "purchOrders7 = data7[1]\n",
        "chestDevs7 = data7[0]\n",
        "\n",
        "mans8 = data8[3]\n",
        "lotNums8 = data8[2]\n",
        "purchOrders8 = data8[1]\n",
        "chestDevs8 = data8[0]\n",
        "\n",
        "mans9 = data9[3]\n",
        "lotNums9 = data9[2]\n",
        "purchOrders9 = data9[1]\n",
        "chestDevs9 = data9[0]\n",
        "\n",
        "mans10 = data10[3]\n",
        "lotNums10 = data10[2]\n",
        "purchOrders10 = data10[1]\n",
        "chestDevs10 = data10[0]\n",
        "\n",
        "mans11 = data11[3]\n",
        "lotNums11 = data11[2]\n",
        "purchOrders11 = data11[1]\n",
        "chestDevs11 = data11[0]\n",
        "\n",
        "mans12 = data12[3]\n",
        "lotNums12 = data12[2]\n",
        "purchOrders12 = data12[1]\n",
        "chestDevs12 = data12[0]\n",
        "\n",
        "mans13 = data13[3]\n",
        "lotNums13 = data13[2]\n",
        "purchOrders13 = data13[1]\n",
        "chestDevs13 = data13[0]\n",
        "\n",
        "mans14 = data14[3]\n",
        "lotNums14 = data14[2]\n",
        "purchOrders14 = data14[1]\n",
        "chestDevs14 = data14[0]\n",
        "\n",
        "def findPOLN(devNames,chestDevs,purchOrders,lotNums,mans):\n",
        "\n",
        "  purchOrder = [] ## initialized list to store purchase orders\n",
        "  lotNum = [] ## initialized list to store lot numbers\n",
        "  manufacturer = [] ## initialized list to store who made the device (pfc or rush)\n",
        "\n",
        "  for i in range(len(chestDevs)):\n",
        "    for j in range(len(devNames)):\n",
        "      if chestDevs[i] == devNames[j]:\n",
        "\n",
        "        manufacturer.append(mans[i])\n",
        "\n",
        "        if lotNums[i] == '' :\n",
        "          for k in reversed(range(0,i)):\n",
        "            if lotNums[k] != '':\n",
        "              lotNum.append(lotNums[k])\n",
        "              break\n",
        "\n",
        "        if purchOrders[i] == '':\n",
        "          for k in reversed(range(0,i)):\n",
        "            if purchOrders[k] != '':\n",
        "              purchOrder.append(purchOrders[k])\n",
        "              break\n",
        "        \n",
        "        purchOrder = list(dict.fromkeys(purchOrder))\n",
        "        lotNum = list(dict.fromkeys(lotNum))\n",
        "        manufacturer = list(dict.fromkeys(manufacturer))\n",
        "\n",
        "  return purchOrder, lotNum, manufacturer\n"
      ],
      "execution_count": 56,
      "outputs": []
    },
    {
      "cell_type": "code",
      "metadata": {
        "id": "T_7jY3opYfaq",
        "colab_type": "code",
        "colab": {
          "base_uri": "https://localhost:8080/",
          "height": 34
        },
        "outputId": "1b399a87-50c0-4a0c-e016-2137a1b2c010"
      },
      "source": [
        "findPOLN(futuraDevs,chestDevs1,purchOrders1,lotNums1,mans1)"
      ],
      "execution_count": 18,
      "outputs": [
        {
          "output_type": "execute_result",
          "data": {
            "text/plain": [
              "(['PO-0085', 'PO-0088'], ['00-01-64', '00-01-69'], [''])"
            ]
          },
          "metadata": {
            "tags": []
          },
          "execution_count": 18
        }
      ]
    },
    {
      "cell_type": "code",
      "metadata": {
        "id": "vSSMRXklYfig",
        "colab_type": "code",
        "colab": {
          "base_uri": "https://localhost:8080/",
          "height": 67
        },
        "outputId": "62c80c94-752f-4171-930c-cf7fe6974850"
      },
      "source": [
        "findPOLN(futuraDevs,chestDevs2,purchOrders2,lotNums2,mans2)"
      ],
      "execution_count": 19,
      "outputs": [
        {
          "output_type": "execute_result",
          "data": {
            "text/plain": [
              "(['PO-0089', 'PO-0071', 'PO-0076', 'PO-0090'],\n",
              " ['00-01-71', '00-01-58', '00-01-60', '00-01-75'],\n",
              " [''])"
            ]
          },
          "metadata": {
            "tags": []
          },
          "execution_count": 19
        }
      ]
    },
    {
      "cell_type": "code",
      "metadata": {
        "id": "M9lFtJ14baUT",
        "colab_type": "code",
        "colab": {
          "base_uri": "https://localhost:8080/",
          "height": 34
        },
        "outputId": "6275a4a7-da2d-4e77-b0e4-521a7f031706"
      },
      "source": [
        "findPOLN(futuraDevs,chestDevs3,purchOrders3,lotNums3,mans3)"
      ],
      "execution_count": 28,
      "outputs": [
        {
          "output_type": "execute_result",
          "data": {
            "text/plain": [
              "(['PO-0081'], ['00-01-77'], ['', 'Wrong engraving number'])"
            ]
          },
          "metadata": {
            "tags": []
          },
          "execution_count": 28
        }
      ]
    },
    {
      "cell_type": "code",
      "metadata": {
        "id": "8D-3gEQObaXB",
        "colab_type": "code",
        "colab": {
          "base_uri": "https://localhost:8080/",
          "height": 34
        },
        "outputId": "2a997559-1194-45c5-f50c-dda2b8b4a860"
      },
      "source": [
        "findPOLN(futuraDevs,chestDevs4,purchOrders4,lotNums4,mans4)"
      ],
      "execution_count": 29,
      "outputs": [
        {
          "output_type": "execute_result",
          "data": {
            "text/plain": [
              "(['PO-0096', 'PO-0108'], ['00-02-32', '00-02-46'], ['', 'New Batteries Start'])"
            ]
          },
          "metadata": {
            "tags": []
          },
          "execution_count": 29
        }
      ]
    },
    {
      "cell_type": "code",
      "metadata": {
        "id": "A_nc3XNfc5nY",
        "colab_type": "code",
        "colab": {
          "base_uri": "https://localhost:8080/",
          "height": 67
        },
        "outputId": "0d8fcdfb-31af-4cf0-92cb-f58851d6c634"
      },
      "source": [
        "findPOLN(futuraDevs,chestDevs5,purchOrders5,lotNums5,mans5)"
      ],
      "execution_count": 35,
      "outputs": [
        {
          "output_type": "execute_result",
          "data": {
            "text/plain": [
              "(['PO-0107', 'PO-0110', 'PO-0111'],\n",
              " ['00-02-75', '00-02-73', '00-02-78'],\n",
              " ['', 'Reworked', 'Rush -NCMR for standby mode drain rate, Use as is', 'Rush'])"
            ]
          },
          "metadata": {
            "tags": []
          },
          "execution_count": 35
        }
      ]
    },
    {
      "cell_type": "code",
      "metadata": {
        "id": "Rx-mIGPqc50B",
        "colab_type": "code",
        "colab": {
          "base_uri": "https://localhost:8080/",
          "height": 67
        },
        "outputId": "08075346-a02d-4baf-9259-e5441685018f"
      },
      "source": [
        "findPOLN(futuraDevs,chestDevs6,purchOrders6,lotNums6,mans6)"
      ],
      "execution_count": 36,
      "outputs": [
        {
          "output_type": "execute_result",
          "data": {
            "text/plain": [
              "(['PO-0114', 'PO-0115', 'PO-0118', 'PO-0117', 'PO-0119'],\n",
              " ['00-02-94', '00-03-03', '00-03-18', '00-03-06', '00-03-24'],\n",
              " ['Rush -NCMR for standby mode drain rate, Use as is', 'Rush', ''])"
            ]
          },
          "metadata": {
            "tags": []
          },
          "execution_count": 36
        }
      ]
    },
    {
      "cell_type": "code",
      "metadata": {
        "id": "kDeZwrdQc56S",
        "colab_type": "code",
        "colab": {
          "base_uri": "https://localhost:8080/",
          "height": 34
        },
        "outputId": "7252259b-192a-465a-c258-0dafe89125fd"
      },
      "source": [
        "findPOLN(futuraDevs,chestDevs7,purchOrders7,lotNums7,mans7)"
      ],
      "execution_count": 37,
      "outputs": [
        {
          "output_type": "execute_result",
          "data": {
            "text/plain": [
              "(['PO-0126', 'PO-0122', 'PO-0128'], ['00-03-38', '00-03-31', '00-03-51'], [''])"
            ]
          },
          "metadata": {
            "tags": []
          },
          "execution_count": 37
        }
      ]
    },
    {
      "cell_type": "code",
      "metadata": {
        "id": "9rBl7DQWc6AS",
        "colab_type": "code",
        "colab": {
          "base_uri": "https://localhost:8080/",
          "height": 34
        },
        "outputId": "68d4fd53-952d-4001-aa8c-b7351e75b7fd"
      },
      "source": [
        "findPOLN(futuraDevs,chestDevs8,purchOrders8,lotNums8,mans8)"
      ],
      "execution_count": 41,
      "outputs": [
        {
          "output_type": "execute_result",
          "data": {
            "text/plain": [
              "(['PO-0134'], ['00-03-87'], [''])"
            ]
          },
          "metadata": {
            "tags": []
          },
          "execution_count": 41
        }
      ]
    },
    {
      "cell_type": "code",
      "metadata": {
        "id": "yyAs1nAUc6Fq",
        "colab_type": "code",
        "colab": {
          "base_uri": "https://localhost:8080/",
          "height": 34
        },
        "outputId": "37f104b7-f86c-4587-ac05-6ded783fa5e4"
      },
      "source": [
        "findPOLN(futuraDevs,chestDevs9,purchOrders9,lotNums9,mans9)"
      ],
      "execution_count": 42,
      "outputs": [
        {
          "output_type": "execute_result",
          "data": {
            "text/plain": [
              "(['PO-0138'], ['00-03-74, 00-03-90'], [''])"
            ]
          },
          "metadata": {
            "tags": []
          },
          "execution_count": 42
        }
      ]
    },
    {
      "cell_type": "code",
      "metadata": {
        "id": "yehxkUUmc6La",
        "colab_type": "code",
        "colab": {
          "base_uri": "https://localhost:8080/",
          "height": 34
        },
        "outputId": "592d9437-45cc-421c-c109-d987b7a3b20e"
      },
      "source": [
        "findPOLN(futuraDevs,chestDevs10,purchOrders10,lotNums10,mans10)"
      ],
      "execution_count": 45,
      "outputs": [
        {
          "output_type": "execute_result",
          "data": {
            "text/plain": [
              "(['PO-0139', 'PO-0147'], ['00-04-02'], [''])"
            ]
          },
          "metadata": {
            "tags": []
          },
          "execution_count": 45
        }
      ]
    },
    {
      "cell_type": "code",
      "metadata": {
        "id": "dgZhLpRqc6RT",
        "colab_type": "code",
        "colab": {
          "base_uri": "https://localhost:8080/",
          "height": 67
        },
        "outputId": "199bf9ef-3f57-4360-be0e-0a02468ba92c"
      },
      "source": [
        "findPOLN(futuraDevs,chestDevs11,purchOrders11,lotNums11,mans11)"
      ],
      "execution_count": 48,
      "outputs": [
        {
          "output_type": "execute_result",
          "data": {
            "text/plain": [
              "(['PO-0152', 'PO-0154', 'Research'],\n",
              " ['00-04-11', '00-04-18'],\n",
              " ['', 'Kenya - Save the children'])"
            ]
          },
          "metadata": {
            "tags": []
          },
          "execution_count": 48
        }
      ]
    },
    {
      "cell_type": "code",
      "metadata": {
        "id": "soQTByvdc6XF",
        "colab_type": "code",
        "colab": {
          "base_uri": "https://localhost:8080/",
          "height": 34
        },
        "outputId": "56cd564e-68df-4548-9675-d328325b02b4"
      },
      "source": [
        "findPOLN(futuraDevs,chestDevs12,purchOrders12,lotNums12,mans12)"
      ],
      "execution_count": 51,
      "outputs": [
        {
          "output_type": "execute_result",
          "data": {
            "text/plain": [
              "(['PO-0158', 'PO-0159'], ['00-04-17', '00-04-47'], ['', 'Rush Board 200105'])"
            ]
          },
          "metadata": {
            "tags": []
          },
          "execution_count": 51
        }
      ]
    },
    {
      "cell_type": "code",
      "metadata": {
        "id": "VNNpy6V-c6du",
        "colab_type": "code",
        "colab": {
          "base_uri": "https://localhost:8080/",
          "height": 185
        },
        "outputId": "f01ad1ce-3b39-4f3c-d7e7-63638ee45dbe"
      },
      "source": [
        "findPOLN(futuraDevs,chestDevs13,purchOrders13,lotNums13,mans13)"
      ],
      "execution_count": 54,
      "outputs": [
        {
          "output_type": "execute_result",
          "data": {
            "text/plain": [
              "(['PO-0160', 'PO-0163', 'PO-0164', 'PO-0165'],\n",
              " ['00-04-48', '00-04-34', '00-04-43'],\n",
              " ['Rush Board 200105',\n",
              "  '',\n",
              "  'CR50 from Gates',\n",
              "  'CR58 from Gates',\n",
              "  'CR64 from Gates',\n",
              "  'CR55 from Gates',\n",
              "  'Returned back from Futura',\n",
              "  'CR50 from Gates; Returned back from Futura'])"
            ]
          },
          "metadata": {
            "tags": []
          },
          "execution_count": 54
        }
      ]
    },
    {
      "cell_type": "code",
      "metadata": {
        "id": "SyAVTfUfc6nN",
        "colab_type": "code",
        "colab": {
          "base_uri": "https://localhost:8080/",
          "height": 34
        },
        "outputId": "952d28d1-11e2-41f5-d72c-e5fda1def340"
      },
      "source": [
        "findPOLN(futuraDevs,chestDevs14,purchOrders14,lotNums14,mans14)"
      ],
      "execution_count": 58,
      "outputs": [
        {
          "output_type": "execute_result",
          "data": {
            "text/plain": [
              "([], [], [])"
            ]
          },
          "metadata": {
            "tags": []
          },
          "execution_count": 58
        }
      ]
    }
  ]
}